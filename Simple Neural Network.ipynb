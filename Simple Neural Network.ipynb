{
 "cells": [
  {
   "cell_type": "code",
   "execution_count": 16,
   "metadata": {
    "collapsed": false
   },
   "outputs": [],
   "source": [
    "import numpy\n",
    "import matplotlib\n",
    "%matplotlib inline\n",
    "import scipy.special"
   ]
  },
  {
   "cell_type": "code",
   "execution_count": 6,
   "metadata": {
    "collapsed": false
   },
   "outputs": [],
   "source": [
    "a=[[1,2],[9,0],[0,12]]\n",
    "a=numpy.array(a)"
   ]
  },
  {
   "cell_type": "code",
   "execution_count": 7,
   "metadata": {
    "collapsed": false
   },
   "outputs": [
    {
     "data": {
      "text/plain": [
       "<matplotlib.image.AxesImage at 0x7f891f36cc90>"
      ]
     },
     "execution_count": 7,
     "metadata": {},
     "output_type": "execute_result"
    },
    {
     "data": {
      "image/png": "[encoded data removed]",
      "text/plain": [
       "<matplotlib.figure.Figure at 0x7f89390b6cd0>"
      ]
     },
     "metadata": {},
     "output_type": "display_data"
    }
   ],
   "source": [
    "matplotlib.pyplot.imshow(a, interpolation=\"nearest\")"
   ]
  },
  {
   "cell_type": "code",
   "execution_count": 30,
   "metadata": {
    "collapsed": false
   },
   "outputs": [],
   "source": [
    "class neuralNetwork:\n",
    "    \n",
    "    def __init__(self,inputnodes,hiddennodes, outputnodes, learningrate):\n",
    "        self.inodes=inputnodes\n",
    "        self.hnodes=hiddennodes\n",
    "        self.onodes=outputnodes\n",
    "        self.lr=learningrate\n",
    "        self.wih=numpy.random.normal(0.0,pow(self.hnodes,-.5), (self.hnodes, self.inodes))\n",
    "        self.who=numpy.random.normal(0.0,pow(self.onodes,-.5), (self.onodes, self.hnodes))\n",
    "        self.activation_function= lambda x: scipy.special.expit(x)\n",
    "        pass\n",
    "\n",
    "    def train():\n",
    "        pass\n",
    "    \n",
    "    def query(self, input_lists):\n",
    "        #converts input list to 2d array\n",
    "        inputs=numpy.array(input_lists, ndmin=2).T\n",
    "        \n",
    "        #calc signals input into hidden layer\n",
    "        hidden_inputs=numpy.dot(self.wih, inputs)\n",
    "        \n",
    "        # activate hidden layer\n",
    "        hidden_outputs=self.activation_function(hidden_inputs)\n",
    "        \n",
    "        \n",
    "        #calc final outputs\n",
    "        final_inputs =numpy.dot(self.who, hidden_outputs)\n",
    "        \n",
    "        # activate final output\n",
    "        final_outputs=self.activation_function(final_inputs)\n",
    "        \n",
    "        return final_outputs\n"
   ]
  },
  {
   "cell_type": "code",
   "execution_count": 32,
   "metadata": {
    "collapsed": false
   },
   "outputs": [
    {
     "data": {
      "text/plain": [
       "array([[ 0.4591531 ],\n",
       "       [ 0.46101952],\n",
       "       [ 0.66267884]])"
      ]
     },
     "execution_count": 32,
     "metadata": {},
     "output_type": "execute_result"
    }
   ],
   "source": [
    "input_nodes=3\n",
    "hidden_nodes =3\n",
    "output_nodes=3\n",
    "learning_rate=0.3\n",
    "\n",
    "n=neuralNetwork(input_nodes,hidden_nodes, output_nodes, learning_rate)\n",
    "n.query([1.0,0.5,-1.5])\n"
   ]
  },
  {
   "cell_type": "code",
   "execution_count": null,
   "metadata": {
    "collapsed": true
   },
   "outputs": [],
   "source": []
  },
  {
   "cell_type": "code",
   "execution_count": null,
   "metadata": {
    "collapsed": true
   },
   "outputs": [],
   "source": []
  }
 ],
 "metadata": {
  "kernelspec": {
   "display_name": "Python 2",
   "language": "python",
   "name": "python2"
  },
  "language_info": {
   "codemirror_mode": {
    "name": "ipython",
    "version": 2
   },
   "file_extension": ".py",
   "mimetype": "text/x-python",
   "name": "python",
   "nbconvert_exporter": "python",
   "pygments_lexer": "ipython2",
   "version": "2.7.6"
  }
 },
 "nbformat": 4,
 "nbformat_minor": 0
}
